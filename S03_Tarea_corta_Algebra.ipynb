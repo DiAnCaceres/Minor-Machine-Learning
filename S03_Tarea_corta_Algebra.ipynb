{
  "nbformat": 4,
  "nbformat_minor": 0,
  "metadata": {
    "colab": {
      "name": "S03 Tarea corta Algebra.ipynb",
      "provenance": [],
      "collapsed_sections": [],
      "authorship_tag": "ABX9TyPxZKthdb3xXStReMRjz0wG",
      "include_colab_link": true
    },
    "kernelspec": {
      "name": "python3",
      "display_name": "Python 3"
    },
    "language_info": {
      "name": "python"
    }
  },
  "cells": [
    {
      "cell_type": "markdown",
      "metadata": {
        "id": "view-in-github",
        "colab_type": "text"
      },
      "source": [
        "<a href=\"https://colab.research.google.com/github/DiAnCaceres/Minor-Machine-Learning/blob/main/S03_Tarea_corta_Algebra.ipynb\" target=\"_parent\"><img src=\"https://colab.research.google.com/assets/colab-badge.svg\" alt=\"Open In Colab\"/></a>"
      ]
    },
    {
      "cell_type": "markdown",
      "source": [
        "## **S03 Tarea Corta: Algebra**\n",
        "Considere el siguiente problema\n",
        "\n",
        "si 2 boletos de adulto y 1 boleto de niño cuestan  32, y si 1 boleto de adulto y 3 boletos de niño cuestan $ 36, ¿cuál es el precio de cada uno?\n",
        "\n",
        "Se pide construir un Jupiter notebook que contenga la una descripción en texto de la resolución del sistema de ecuaciones (1 punto) y el código python que realiza el gráfico respectivo (1 punto)"
      ],
      "metadata": {
        "id": "RixboV_Vmn2t"
      }
    },
    {
      "cell_type": "code",
      "execution_count": 22,
      "metadata": {
        "id": "mo53tvDcmeH3"
      },
      "outputs": [],
      "source": [
        "import numpy as np\n",
        "import matplotlib.pyplot as plt"
      ]
    },
    {
      "cell_type": "code",
      "source": [
        "x = np.linspace(0,50 , 1000)"
      ],
      "metadata": {
        "id": "cqrDx9p9n73K"
      },
      "execution_count": 23,
      "outputs": []
    },
    {
      "cell_type": "markdown",
      "source": [
        "si 2 boletos de adulto y 1 boleto de niño cuestan 32\n",
        "$$2x + y = 32$$\n",
        "$$y = 32-2x$$\n"
      ],
      "metadata": {
        "id": "MiqAnQq7pAwQ"
      }
    },
    {
      "cell_type": "code",
      "source": [
        "y1 = 32 - 2*x "
      ],
      "metadata": {
        "id": "mmmjEMoRm2_E"
      },
      "execution_count": 24,
      "outputs": []
    },
    {
      "cell_type": "markdown",
      "source": [
        "si 1 boleto de adulto y 3 boletos de niño cuestan 36\n",
        "$$x + 3y = 36$$\n",
        "$$ 3y = 36-x $$\n",
        "$$ y = \\frac{36-x}{3}  = 12 - \\frac{x}{3}$$\n"
      ],
      "metadata": {
        "id": "4A2euQ5FplHU"
      }
    },
    {
      "cell_type": "code",
      "source": [
        "y2 = 12 - (x/3)"
      ],
      "metadata": {
        "id": "L8zLTL8DoMId"
      },
      "execution_count": 25,
      "outputs": []
    },
    {
      "cell_type": "code",
      "source": [
        "a = np.array([[2,1],[1,3]])\n",
        "b = np.array([32,36])\n",
        "c = np.linalg.solve(a,b)\n",
        "c"
      ],
      "metadata": {
        "colab": {
          "base_uri": "https://localhost:8080/"
        },
        "id": "VvEmgqpPthU5",
        "outputId": "027858f4-c32f-4590-c258-b9ce7f1bcecd"
      },
      "execution_count": 29,
      "outputs": [
        {
          "output_type": "execute_result",
          "data": {
            "text/plain": [
              "array([12.,  8.])"
            ]
          },
          "metadata": {},
          "execution_count": 29
        }
      ]
    },
    {
      "cell_type": "code",
      "source": [
        "fig, ax = plt.subplots()\n",
        "plt.xlabel('x')\n",
        "plt.ylabel('y')\n",
        "ax.set_xlim([0, 40])\n",
        "ax.set_ylim([0, 40])\n",
        "ax.plot(x, y1, c='green')\n",
        "ax.plot(x, y2, c='brown')\n",
        "plt.axvline(x=12, color='purple', linestyle='--')\n",
        "_ = plt.axhline(y=8, color='purple', linestyle='--')"
      ],
      "metadata": {
        "colab": {
          "base_uri": "https://localhost:8080/",
          "height": 283
        },
        "id": "gA-9G3guoZLP",
        "outputId": "29979cb7-45d3-4cf7-c29f-bcef683ab1a9"
      },
      "execution_count": 30,
      "outputs": [
        {
          "output_type": "display_data",
          "data": {
            "text/plain": [
              "<Figure size 432x288 with 1 Axes>"
            ],
            "image/png": "[encoded data removed]"
          },
          "metadata": {
            "needs_background": "light"
          }
        }
      ]
    }
  ]
}